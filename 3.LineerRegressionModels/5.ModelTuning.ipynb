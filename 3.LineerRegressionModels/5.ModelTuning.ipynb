{
 "cells": [
  {
   "cell_type": "code",
   "execution_count": 1,
   "metadata": {},
   "outputs": [],
   "source": [
    "import numpy as np\n",
    "import pandas as pd\n",
    "from sklearn.linear_model import Ridge\n",
    "from sklearn.metrics import mean_squared_error,r2_score\n",
    "from sklearn.model_selection import train_test_split\n",
    "from sklearn import model_selection\n",
    "import matplotlib.pyplot as plt\n",
    "from sklearn.linear_model import RidgeCV"
   ]
  },
  {
   "cell_type": "code",
   "execution_count": 2,
   "metadata": {},
   "outputs": [],
   "source": [
    "df = pd.read_csv(\"Hitters.csv\")\n",
    "df = df.dropna() #eksik değerleri direk uçurduk\n",
    "dms = pd.get_dummies(df[[\"League\",\"Division\",\"NewLeague\"]])#one hot encoding yaklaşımı yaptık değerleri dumy e çevirdik.\n",
    "y = df[\"Salary\"]\n",
    "X_ = df.drop([\"Salary\",\"League\",\"Division\",\"NewLeague\"],axis = 1).astype(\"float64\")\n",
    "X = pd.concat([X_,dms[[\"League_N\",\"Division_W\",\"NewLeague_N\"]]],axis = 1)\n",
    "X_train,X_test,y_train,y_test  =train_test_split(X,y,test_size = 0.25,random_state=42)"
   ]
  },
  {
   "cell_type": "code",
   "execution_count": 7,
   "metadata": {},
   "outputs": [
    {
     "data": {
      "text/plain": [
       "357.8154668279846"
      ]
     },
     "execution_count": 7,
     "metadata": {},
     "output_type": "execute_result"
    }
   ],
   "source": [
    "ridge_model = Ridge(100).fit(X_train,y_train) #fit ettik train üzerinden\n",
    "#100 alpha  bunu değiştirisek skorumuzda değişir.\n",
    "\n",
    "y_pred = ridge_model.predict(X_test) #test yapmak amacıyla\n",
    "#predict kullandık Test setinin bağımsız değişkenlerini aldık\n",
    "#Test setinin bağımlı değişken değerlerini tahmin ettik\n",
    "\n",
    "np.sqrt(mean_squared_error(y_test,y_pred)) #Test setinin bağımlı\n",
    "#değişken değerleriyle test setinin gerçek y değerlerini \n",
    "#karşılaştırarak  hatamızı hesapladık"
   ]
  },
  {
   "cell_type": "code",
   "execution_count": 10,
   "metadata": {},
   "outputs": [
    {
     "data": {
      "text/plain": [
       "array([614, 153, 173,   9, 861, 480, 858,  69, 870, 608, 350,  37,  40,\n",
       "        32, 219, 379, 372,  15,  29, 251, 771, 476, 801, 718, 479, 823,\n",
       "       871, 879, 139, 291, 272, 601, 552, 900, 408, 974, 350, 498, 282,\n",
       "       573, 863, 878, 278,  97, 680, 743, 222, 488, 965, 797, 234, 459,\n",
       "        19, 511, 905, 291,  24,  58, 752, 982, 391, 563, 434, 902,  20,\n",
       "       813,  99, 262, 406, 616, 266, 125, 718, 443, 637, 874, 542, 616,\n",
       "       150, 566, 581, 121, 903, 414, 594, 689, 670, 442, 154, 725, 927,\n",
       "       288, 139, 148, 430, 880, 523, 614, 938, 391])"
      ]
     },
     "execution_count": 10,
     "metadata": {},
     "output_type": "execute_result"
    }
   ],
   "source": [
    "#Biz kullanıcı olarak dışşal bir paremetre olan lambda değerini \n",
    "#bilmiyoruz bunu bazı uzmanlıklarla bulabiliriz.\n",
    "#Bunu deneme yanılma yoluyla farklı farklı varyasyonları denemk şeklinde\n",
    "#gerçekleştirmek istediğimizde modelleri hiper paremetre açısından\n",
    "#Tune etmiş yani ayarlamış oluyoruz.En uygun paremetre değerini \n",
    "#Bulmuş oluyoruz.\n",
    "np.random.randint(0,1000,100) #sıfıt ile 1000 arasında 100 sayi"
   ]
  },
  {
   "cell_type": "code",
   "execution_count": 31,
   "metadata": {},
   "outputs": [],
   "source": [
    "lambdalar1 = np.random.randint(0,1000,100)\n",
    "lambdalar2 = 10**np.linspace(10,-2,100)*0.5"
   ]
  },
  {
   "cell_type": "code",
   "execution_count": 32,
   "metadata": {},
   "outputs": [
    {
     "data": {
      "text/plain": [
       "RidgeCV(alphas=array([323, 601, 854, 979, 786, 745,  99, 657,  50, 711, 963, 730, 467,\n",
       "       261, 117, 255, 475, 874, 703, 153,  82, 881, 893, 104, 756, 259,\n",
       "       336, 880,  90, 985, 430, 667, 865, 447, 436, 600, 710, 138, 433,\n",
       "       806, 895,  49, 995, 728, 977, 399, 460, 445,  29, 276, 358,  11,\n",
       "       298, 423, 435, 347, 565, 291, 136, 495, 296, 995, 659, 404, 698,\n",
       "        13, 160, 609, 919, 879,  34, 911, 327, 732, 523, 737, 297, 346,\n",
       "       540, 477, 694, 458, 419,  14, 484,  37, 233, 478,  77, 715, 310,\n",
       "       644, 937, 248, 120, 825, 976, 776, 821, 999]),\n",
       "        cv=10, fit_intercept=True, gcv_mode=None, normalize=True,\n",
       "        scoring='neg_mean_squared_error', store_cv_values=False)"
      ]
     },
     "execution_count": 32,
     "metadata": {},
     "output_type": "execute_result"
    }
   ],
   "source": [
    "ridgecv = RidgeCV(alphas = lambdalar1,scoring = \"neg_mean_squared_error\",cv = 10,normalize = True)\n",
    "ridgecv.fit(X_train,y_train)"
   ]
  },
  {
   "cell_type": "code",
   "execution_count": 33,
   "metadata": {},
   "outputs": [
    {
     "data": {
      "text/plain": [
       "11"
      ]
     },
     "execution_count": 33,
     "metadata": {},
     "output_type": "execute_result"
    }
   ],
   "source": [
    "ridgecv.alpha_ #optimum lambdammız bunu bulduk.\n",
    "#şimdi bu lambdayı kullanarak final modelini oluşturmamız gerekiyor"
   ]
  },
  {
   "cell_type": "code",
   "execution_count": 34,
   "metadata": {},
   "outputs": [],
   "source": [
    "#Final modeli\n",
    "ridge_tuned = Ridge(alpha = ridgecv.alpha_).fit(X_train,y_train)\n",
    "#Tune edilmiş final modelimiz bu"
   ]
  },
  {
   "cell_type": "code",
   "execution_count": 35,
   "metadata": {},
   "outputs": [],
   "source": [
    "#Şimdi bu model üzerinden test hatasını hesaplamamız gerekiyor."
   ]
  },
  {
   "cell_type": "code",
   "execution_count": 36,
   "metadata": {},
   "outputs": [
    {
     "data": {
      "text/plain": [
       "356.3086302569962"
      ]
     },
     "execution_count": 36,
     "metadata": {},
     "output_type": "execute_result"
    }
   ],
   "source": [
    "y_pred = ridge_tuned.predict(X_test)\n",
    "np.sqrt(mean_squared_error(y_test,y_pred))"
   ]
  },
  {
   "cell_type": "code",
   "execution_count": 24,
   "metadata": {},
   "outputs": [],
   "source": [
    "#birde lambdalar1 için gerçekleştirelim."
   ]
  },
  {
   "cell_type": "code",
   "execution_count": null,
   "metadata": {},
   "outputs": [],
   "source": []
  }
 ],
 "metadata": {
  "kernelspec": {
   "display_name": "Python 3",
   "language": "python",
   "name": "python3"
  },
  "language_info": {
   "codemirror_mode": {
    "name": "ipython",
    "version": 3
   },
   "file_extension": ".py",
   "mimetype": "text/x-python",
   "name": "python",
   "nbconvert_exporter": "python",
   "pygments_lexer": "ipython3",
   "version": "3.7.6"
  }
 },
 "nbformat": 4,
 "nbformat_minor": 4
}
