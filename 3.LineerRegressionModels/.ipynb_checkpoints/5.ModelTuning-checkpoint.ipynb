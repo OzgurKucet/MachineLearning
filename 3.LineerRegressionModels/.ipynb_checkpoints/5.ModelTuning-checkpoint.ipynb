{
 "cells": [
  {
   "cell_type": "code",
   "execution_count": 1,
   "metadata": {},
   "outputs": [],
   "source": [
    "import numpy as np\n",
    "import pandas as pd\n",
    "from sklearn.linear_model import Ridge\n",
    "from sklearn.metrics import mean_squared_error,r2_score\n",
    "from sklearn.model_selection import train_test_split\n",
    "from sklearn import model_selection\n",
    "import matplotlib.pyplot as plt\n",
    "from sklearn.linear_model import RidgeCV"
   ]
  },
  {
   "cell_type": "code",
   "execution_count": 2,
   "metadata": {},
   "outputs": [],
   "source": [
    "df = pd.read_csv(\"Hitters.csv\")\n",
    "df = df.dropna() #eksik değerleri direk uçurduk\n",
    "dms = pd.get_dummies(df[[\"League\",\"Division\",\"NewLeague\"]])#one hot encoding yaklaşımı yaptık değerleri dumy e çevirdik.\n",
    "y = df[\"Salary\"]\n",
    "X_ = df.drop([\"Salary\",\"League\",\"Division\",\"NewLeague\"],axis = 1).astype(\"float64\")\n",
    "X = pd.concat([X_,dms[[\"League_N\",\"Division_W\",\"NewLeague_N\"]]],axis = 1)\n",
    "X_train,X_test,y_train,y_test  =train_test_split(X,y,test_size = 0.25,random_state=42)"
   ]
  },
  {
   "cell_type": "code",
   "execution_count": 7,
   "metadata": {},
   "outputs": [
    {
     "data": {
      "text/plain": [
       "357.8154668279846"
      ]
     },
     "execution_count": 7,
     "metadata": {},
     "output_type": "execute_result"
    }
   ],
   "source": [
    "ridge_model = Ridge(100).fit(X_train,y_train) #fit ettik train üzerinden\n",
    "#100 alpha  bunu değiştirisek skorumuzda değişir.\n",
    "\n",
    "y_pred = ridge_model.predict(X_test) #test yapmak amacıyla\n",
    "#predict kullandık Test setinin bağımsız değişkenlerini aldık\n",
    "#Test setinin bağımlı değişken değerlerini tahmin ettik\n",
    "\n",
    "np.sqrt(mean_squared_error(y_test,y_pred)) #Test setinin bağımlı\n",
    "#değişken değerleriyle test setinin gerçek y değerlerini \n",
    "#karşılaştırarak  hatamızı hesapladık"
   ]
  },
  {
   "cell_type": "code",
   "execution_count": 10,
   "metadata": {},
   "outputs": [
    {
     "data": {
      "text/plain": [
       "array([614, 153, 173,   9, 861, 480, 858,  69, 870, 608, 350,  37,  40,\n",
       "        32, 219, 379, 372,  15,  29, 251, 771, 476, 801, 718, 479, 823,\n",
       "       871, 879, 139, 291, 272, 601, 552, 900, 408, 974, 350, 498, 282,\n",
       "       573, 863, 878, 278,  97, 680, 743, 222, 488, 965, 797, 234, 459,\n",
       "        19, 511, 905, 291,  24,  58, 752, 982, 391, 563, 434, 902,  20,\n",
       "       813,  99, 262, 406, 616, 266, 125, 718, 443, 637, 874, 542, 616,\n",
       "       150, 566, 581, 121, 903, 414, 594, 689, 670, 442, 154, 725, 927,\n",
       "       288, 139, 148, 430, 880, 523, 614, 938, 391])"
      ]
     },
     "execution_count": 10,
     "metadata": {},
     "output_type": "execute_result"
    }
   ],
   "source": [
    "#Biz kullanıcı olarak dışşal bir paremetre olan lambda değerini \n",
    "#bilmiyoruz bunu bazı uzmanlıklarla bulabiliriz.\n",
    "#Bunu deneme yanılma yoluyla farklı farklı varyasyonları denemk şeklinde\n",
    "#gerçekleştirmek istediğimizde modelleri hiper paremetre açısından\n",
    "#Tune etmiş yani ayarlamış oluyoruz.En uygun paremetre değerini \n",
    "#Bulmuş oluyoruz.\n",
    "np.random.randint(0,1000,100) #sıfıt ile 1000 arasında 100 sayi"
   ]
  },
  {
   "cell_type": "code",
   "execution_count": 11,
   "metadata": {},
   "outputs": [],
   "source": [
    "lambdalar1 = np.random.randint(0,1000,100)\n",
    "lambdalar2 = 10**np.linspace(10,-2,100)*0.5"
   ]
  },
  {
   "cell_type": "code",
   "execution_count": 13,
   "metadata": {},
   "outputs": [
    {
     "data": {
      "text/plain": [
       "RidgeCV(alphas=array([5.00000000e+09, 3.78231664e+09, 2.86118383e+09, 2.16438064e+09,\n",
       "       1.63727458e+09, 1.23853818e+09, 9.36908711e+08, 7.08737081e+08,\n",
       "       5.36133611e+08, 4.05565415e+08, 3.06795364e+08, 2.32079442e+08,\n",
       "       1.75559587e+08, 1.32804389e+08, 1.00461650e+08, 7.59955541e+07,\n",
       "       5.74878498e+07, 4.34874501e+07, 3.28966612e+07, 2.48851178e+07,\n",
       "       1.88246790e+07, 1.42401793e+0...\n",
       "       3.28966612e-01, 2.48851178e-01, 1.88246790e-01, 1.42401793e-01,\n",
       "       1.07721735e-01, 8.14875417e-02, 6.16423370e-02, 4.66301673e-02,\n",
       "       3.52740116e-02, 2.66834962e-02, 2.01850863e-02, 1.52692775e-02,\n",
       "       1.15506485e-02, 8.73764200e-03, 6.60970574e-03, 5.00000000e-03]),\n",
       "        cv=10, fit_intercept=True, gcv_mode=None, normalize=True,\n",
       "        scoring='neg_mean_squared_error', store_cv_values=False)"
      ]
     },
     "execution_count": 13,
     "metadata": {},
     "output_type": "execute_result"
    }
   ],
   "source": [
    "ridgecv = RidgeCV(alphas = lambdalar1,scoring = \"neg_mean_squared_error\",cv = 10,normalize = True)\n",
    "ridgecv.fit(X_train,y_train)"
   ]
  },
  {
   "cell_type": "code",
   "execution_count": 14,
   "metadata": {},
   "outputs": [
    {
     "data": {
      "text/plain": [
       "0.7599555414764666"
      ]
     },
     "execution_count": 14,
     "metadata": {},
     "output_type": "execute_result"
    }
   ],
   "source": [
    "ridgecv.alpha_ #optimum lambdammız bunu bulduk.\n",
    "#şimdi bu lambdayı kullanarak final modelini oluşturmamız gerekiyor"
   ]
  },
  {
   "cell_type": "code",
   "execution_count": 16,
   "metadata": {},
   "outputs": [],
   "source": [
    "#Final modeli\n",
    "ridge_tuned = Ridge(alpha = ridgecv.alpha_).fit(X_train,y_train)\n",
    "#Tune edilmiş final modelimiz bu"
   ]
  },
  {
   "cell_type": "code",
   "execution_count": 17,
   "metadata": {},
   "outputs": [],
   "source": [
    "#Şimdi bu model üzerinden test hatasını hesaplamamız gerekiyor."
   ]
  },
  {
   "cell_type": "code",
   "execution_count": 18,
   "metadata": {},
   "outputs": [
    {
     "data": {
      "text/plain": [
       "356.8583047271521"
      ]
     },
     "execution_count": 18,
     "metadata": {},
     "output_type": "execute_result"
    }
   ],
   "source": [
    "y_pred = ridge_tuned.predict(X_test)\n",
    "np.sqrt(mean_squared_error(y_test,y_pred))"
   ]
  },
  {
   "cell_type": "code",
   "execution_count": null,
   "metadata": {},
   "outputs": [],
   "source": [
    "#birde lambdalar1 için gerçekleştirelim."
   ]
  }
 ],
 "metadata": {
  "kernelspec": {
   "display_name": "Python 3",
   "language": "python",
   "name": "python3"
  },
  "language_info": {
   "codemirror_mode": {
    "name": "ipython",
    "version": 3
   },
   "file_extension": ".py",
   "mimetype": "text/x-python",
   "name": "python",
   "nbconvert_exporter": "python",
   "pygments_lexer": "ipython3",
   "version": "3.7.6"
  }
 },
 "nbformat": 4,
 "nbformat_minor": 4
}
