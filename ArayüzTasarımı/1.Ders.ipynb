{
 "cells": [
  {
   "cell_type": "code",
   "execution_count": 5,
   "metadata": {},
   "outputs": [],
   "source": [
    "import tkinter as tk"
   ]
  },
  {
   "cell_type": "code",
   "execution_count": 10,
   "metadata": {},
   "outputs": [],
   "source": [
    "form = tk.Tk()\n",
    "form.title(\"Tkinter Dersleri\")\n",
    "etiket=tk.Label(text = \"Dersler\")\n",
    "etiket.pack()\n",
    "etiket2 = tk.Label(form,text = \"Python Tkinter dersleri\")\n",
    "etiket2.pack()\n",
    "form.mainloop()"
   ]
  },
  {
   "cell_type": "code",
   "execution_count": 29,
   "metadata": {},
   "outputs": [],
   "source": [
    "import tkinter as tk\n",
    "form = tk.Tk()\n",
    "form.title(\"Tkiner Dersleri Formu\")\n",
    "label = tk.Label(form,text = \"Python Tkinter\")\n",
    "label.pack()\n",
    "label2 = tk.Label(form,text = \"ders2\",fg = \"red\", font = \"Times 15 italic\") # fg foregrounf\n",
    "label2.pack()\n",
    "label3 = tk.Label(form,text = \"ders2\",fg = \"black\",bg = \"green\", font=\"bold\") #bg background\n",
    "label3.pack()\n",
    "form.mainloop()"
   ]
  },
  {
   "cell_type": "code",
   "execution_count": 10,
   "metadata": {},
   "outputs": [],
   "source": [
    "import tkinter as tk\n",
    "\n",
    "form = tk.Tk()\n",
    "form.title(\"Tkinder dersleri 3\")\n",
    "form.geometry(\"500x250+500+350\")\n",
    "form.minsize(450,400) #ekran daha fazla lüçültülmez\n",
    "form.maxsize(550,550) #ekran daha fazla büyütülmez\n",
    "\n",
    "form.resizable(False,False) #x ve y ile oynayamayız sabit ekranlı olur.\n",
    "\n",
    "label = tk.Label(form,text  =\"Ders-3\")\n",
    "label.pack()\n",
    "\n",
    "form.mainloop()"
   ]
  },
  {
   "cell_type": "code",
   "execution_count": 18,
   "metadata": {},
   "outputs": [],
   "source": [
    "import tkinter as tk\n",
    "\n",
    "form = tk.Tk()\n",
    "form.title(\"Tkinder dersleri 4\")\n",
    "form.geometry(\"500x500+500+350\")\n",
    "\n",
    "form.state(\"normal\")\n",
    "form.state(\"zoomed\") # Tam ekran yapar.\n",
    "#form.state(\"iconic\") # alta atararak gelir.\n",
    "\n",
    "form.wm_attributes(\"-alpha\",0.5) #saydam olarak gelir.\n",
    "\n",
    "form.mainloop()"
   ]
  },
  {
   "cell_type": "code",
   "execution_count": 32,
   "metadata": {},
   "outputs": [],
   "source": [
    "import tkinter as tk\n",
    "\n",
    "form = tk.Tk()\n",
    "form.title(\"Tkinder dersleri 5\")\n",
    "form.geometry(\"500x400\")\n",
    "\n",
    "def topla():\n",
    "    print(\"topla\")\n",
    "\n",
    "button = tk.Button(form,text = \"Tıkla\",fg = \"black\",bg = \"red\" ,command = topla)\n",
    "button.pack(side = tk.BOTTOM)\n",
    "\n",
    "button2 = tk.Button(form,text = \"Tıkla\",command = topla)\n",
    "button2.pack(side = tk.LEFT)\n",
    "\n",
    "button3 = tk.Button(form,text = \"Tıkla\",command = topla)\n",
    "button3.pack(side = tk.TOP)\n",
    "\n",
    "\n",
    "form.mainloop()"
   ]
  },
  {
   "cell_type": "code",
   "execution_count": 10,
   "metadata": {},
   "outputs": [],
   "source": [
    "import tkinter as tk\n",
    "import random as rd\n",
    "\n",
    "form = tk.Tk()\n",
    "form.title(\"Uygulama\")\n",
    "form.geometry(\"500x400+500+350\")\n",
    "liste = []\n",
    "\n",
    "for i in range(5):\n",
    "    while len(liste)!=6:\n",
    "        a = rd.randint(1,50)\n",
    "        if a not in liste:\n",
    "            liste.append(a)\n",
    "\n",
    "def göster():\n",
    "    label.config(text=liste,bg = \"green\")\n",
    "def saydamlastır():\n",
    "    form.wm_attributes(\"-alpha\",0.3)\n",
    "def döndür():\n",
    "    form.wm_attributes(\"-alpha\",0.9)\n",
    "    \n",
    "label = tk.Label(form,fg = \"red\",bg = \"red\")\n",
    "label.pack()\n",
    "göster = tk.Button(form,text = \"göster\",fg = \"black\",bg = \"yellow\",command = göster)\n",
    "göster.pack(side=tk.LEFT)\n",
    "\n",
    "göster = tk.Button(form,text = \"Saydamlaştırma\",fg = \"black\",bg = \"yellow\",command = saydamlastır)\n",
    "göster.pack(side=tk.LEFT)\n",
    "\n",
    "göster = tk.Button(form,text = \"Döndür\",fg = \"black\",bg = \"yellow\",command = döndür)\n",
    "göster.pack(side=tk.LEFT)\n",
    "            \n",
    "form.mainloop()"
   ]
  },
  {
   "cell_type": "code",
   "execution_count": 21,
   "metadata": {},
   "outputs": [],
   "source": [
    "import tkinter as tk\n",
    "\n",
    "form = tk.Tk()\n",
    "form.title(\"Entry dersi\")\n",
    "form.geometry(\"500x450+250+250\")\n",
    "\n",
    "giris = tk.Entry(fg = \"black\",bg=\"red\")\n",
    "giris.pack(side = tk.LEFT)\n",
    "\n",
    "giris2 = tk.Entry(fg = \"white\",bg=\"blue\")\n",
    "giris2.pack(side = tk.RIGHT)\n",
    "\n",
    "form.mainloop()"
   ]
  },
  {
   "cell_type": "code",
   "execution_count": 45,
   "metadata": {},
   "outputs": [],
   "source": [
    "import tkinter as tk\n",
    "\n",
    "form = tk.Tk()\n",
    "form.title(\"Geometrik Yöneticiler,pack\")\n",
    "\n",
    "form.geometry(\"500x500\")\n",
    "\n",
    "label = tk.Label(text = \"Geometrik yöneticiler\")\n",
    "label.pack(side = tk.TOP)\n",
    "button = tk.Button(text = \"Pack()\",bg = \"red\")\n",
    "#button.pack(side = tk.BOTTOM,fill = tk.X) #buton x e göre ekranı kapladı.\n",
    "#button.pack(side = tk.LEFT,fill = tk.Y,expand = tk.YES) \n",
    "#button.pack(expand = 1,anchor = \"se\") #\"n\" yukarı ,\"s\" aşağı,\"e\" sağ \"w\" sol \"ne\" yukarı sağ \"nw\" yukarısol \"se\" aşağı sağ \"sw\" aşağı sol \"center\" orta\n",
    "#button.pack(padx = 20,pady = 100) #Kendimiz elle verdik.\n",
    "button.pack(ipadx = 50,ipady = 80)#buton boyutu\n",
    "\n",
    "form.mainloop()"
   ]
  },
  {
   "cell_type": "code",
   "execution_count": 57,
   "metadata": {},
   "outputs": [],
   "source": [
    "import tkinter as tk\n",
    "\n",
    "form = tk.Tk()\n",
    "form.title(\"Geometrik Yöneticiler,pack\")\n",
    "\n",
    "form.geometry(\"500x500+250+250\")\n",
    "button = tk.Button(text = \"Deneme\",fg = \"red\",bg = \"green\",font = \"Times 17 bold\" )\n",
    "#button.place(x = 200,y = 40) # Dinamik değil hareket etmiyor yerinden\n",
    "button.place(relx = 0.4,rely=0.3,width = 150,heigh = 60)\n",
    "\n",
    "form.mainloop()"
   ]
  },
  {
   "cell_type": "code",
   "execution_count": null,
   "metadata": {},
   "outputs": [],
   "source": []
  },
  {
   "cell_type": "code",
   "execution_count": null,
   "metadata": {},
   "outputs": [],
   "source": []
  }
 ],
 "metadata": {
  "kernelspec": {
   "display_name": "Python 3",
   "language": "python",
   "name": "python3"
  },
  "language_info": {
   "codemirror_mode": {
    "name": "ipython",
    "version": 3
   },
   "file_extension": ".py",
   "mimetype": "text/x-python",
   "name": "python",
   "nbconvert_exporter": "python",
   "pygments_lexer": "ipython3",
   "version": "3.7.6"
  }
 },
 "nbformat": 4,
 "nbformat_minor": 4
}
