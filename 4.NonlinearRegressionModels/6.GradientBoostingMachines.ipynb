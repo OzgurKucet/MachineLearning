{
 "cells": [
  {
   "cell_type": "markdown",
   "metadata": {},
   "source": [
    "# Gradient Boosting Machines(GBM)"
   ]
  },
  {
   "cell_type": "markdown",
   "metadata": {},
   "source": [
    "AdaBoostun sınıflandırma ve regresyon progremlerine kolayva uyarlanabilien genelleştirilmiş versyonudur"
   ]
  },
  {
   "cell_type": "markdown",
   "metadata": {},
   "source": [
    "Artıklar üzerinde tek bir tahminsel model formunda olan modeller serisi kurulur."
   ]
  },
  {
   "cell_type": "markdown",
   "metadata": {},
   "source": [
    "Zayıf öğreniciler bir araya getirilip güçlü bir öğrenci ortaya çıkartmak fikrine dayanır"
   ]
  },
  {
   "cell_type": "markdown",
   "metadata": {},
   "source": [
    "AdaBoost ile Zayıf sınıflandırıcıların bir ataya gelerek güçlü bir sınıflandırıcı oluşturmasu fikrini hayata geçiren algoritmadır."
   ]
  },
  {
   "cell_type": "markdown",
   "metadata": {},
   "source": [
    " Gbm AdaBoostun sınıflandırma ve regresyon problemlerine kolayca uyarlanabilen genelleştirilmiş versiyonudur. Artıkar üzerinde tek bir tahminsel model formunda olan modeller serisi kurulur."
   ]
  },
  {
   "cell_type": "code",
   "execution_count": 11,
   "metadata": {},
   "outputs": [],
   "source": [
    "import numpy as np\n",
    "import pandas as pd \n",
    "import statsmodels.api as sm\n",
    "import seaborn as sns\n",
    "import matplotlib.pyplot as plt\n",
    "from sklearn.preprocessing import scale, StandardScaler\n",
    "from sklearn import model_selection\n",
    "from sklearn.model_selection import train_test_split, GridSearchCV, cross_val_score\n",
    "from sklearn.metrics import confusion_matrix, accuracy_score, mean_squared_error, r2_score, roc_auc_score, roc_curve, classification_report\n",
    "from sklearn.linear_model import LogisticRegression\n",
    "from sklearn.linear_model import LinearRegression\n",
    "from sklearn.neighbors import KNeighborsClassifier,KNeighborsRegressor\n",
    "from sklearn.tree import DecisionTreeRegressor\n",
    "from sklearn.svm import SVC\n",
    "from sklearn.neural_network import MLPClassifier,MLPRegressor\n",
    "from sklearn.tree import DecisionTreeClassifier\n",
    "from sklearn.ensemble import RandomForestClassifier,RandomForestRegressor\n",
    "from sklearn.ensemble import GradientBoostingClassifier,GradientBoostingRegressor\n",
    "from sklearn import neighbors\n",
    "from sklearn.svm import SVR"
   ]
  },
  {
   "cell_type": "code",
   "execution_count": 12,
   "metadata": {},
   "outputs": [],
   "source": [
    "df = pd.read_csv(\"Hitters.csv\")\n",
    "df = df.dropna()\n",
    "dms = pd.get_dummies(df[[\"League\",\"Division\",\"NewLeague\"]])\n",
    "#Veri setindeki kategorik değişkenler için dummy değişkenler oluşturduk\n",
    "#One hot encoding yöntemi ile.\n",
    "y = df[\"Salary\"] #Bağımlı değişkenimiz\n",
    "X_ = df.drop([\"Salary\",\"League\",\"Division\",\"NewLeague\"],axis=1).astype(\"float64\")\n",
    "#Veri setimizdeki bağımlı değişken ve kategorik değişkenlerimizin orjinal hallerini uçurduk\n",
    "X = pd.concat([X_,dms[[\"League_N\",\"Division_W\",\"NewLeague_N\"]]],axis = 1)\n",
    "#Bu kategorik değişkenlerin dummy versyonlarını ve diğer bağımsız\n",
    "#değişken değerlerimizi bir arada tutarak bağımsız değişkenlerimizi\n",
    "#X olarak oluşturmuş olduk\n",
    "X_train,X_test,y_train,y_test  =train_test_split(X,y,test_size = 0.25,random_state=42)"
   ]
  },
  {
   "cell_type": "markdown",
   "metadata": {},
   "source": [
    "### Model Ve Tahmin"
   ]
  },
  {
   "cell_type": "code",
   "execution_count": 13,
   "metadata": {},
   "outputs": [],
   "source": [
    "gbm_model = GradientBoostingRegressor().fit(X_train,y_train)"
   ]
  },
  {
   "cell_type": "code",
   "execution_count": 14,
   "metadata": {},
   "outputs": [
    {
     "data": {
      "text/plain": [
       "GradientBoostingRegressor(alpha=0.9, ccp_alpha=0.0, criterion='friedman_mse',\n",
       "                          init=None, learning_rate=0.1, loss='ls', max_depth=3,\n",
       "                          max_features=None, max_leaf_nodes=None,\n",
       "                          min_impurity_decrease=0.0, min_impurity_split=None,\n",
       "                          min_samples_leaf=1, min_samples_split=2,\n",
       "                          min_weight_fraction_leaf=0.0, n_estimators=100,\n",
       "                          n_iter_no_change=None, presort='deprecated',\n",
       "                          random_state=None, subsample=1.0, tol=0.0001,\n",
       "                          validation_fraction=0.1, verbose=0, warm_start=False)"
      ]
     },
     "execution_count": 14,
     "metadata": {},
     "output_type": "execute_result"
    }
   ],
   "source": [
    "gbm_model"
   ]
  },
  {
   "cell_type": "code",
   "execution_count": 15,
   "metadata": {},
   "outputs": [],
   "source": [
    "y_pred = gbm_model.predict(X_test)"
   ]
  },
  {
   "cell_type": "code",
   "execution_count": 16,
   "metadata": {},
   "outputs": [
    {
     "data": {
      "text/plain": [
       "345.635814975062"
      ]
     },
     "execution_count": 16,
     "metadata": {},
     "output_type": "execute_result"
    }
   ],
   "source": [
    "np.sqrt(mean_squared_error(y_test,y_pred))"
   ]
  },
  {
   "cell_type": "markdown",
   "metadata": {},
   "source": [
    "### Model Tuning"
   ]
  },
  {
   "cell_type": "code",
   "execution_count": 17,
   "metadata": {},
   "outputs": [],
   "source": [
    "gbm_model = GradientBoostingRegressor().fit(X_train,y_train)"
   ]
  },
  {
   "cell_type": "code",
   "execution_count": 18,
   "metadata": {},
   "outputs": [
    {
     "data": {
      "text/plain": [
       "GradientBoostingRegressor(alpha=0.9, ccp_alpha=0.0, criterion='friedman_mse',\n",
       "                          init=None, learning_rate=0.1, loss='ls', max_depth=3,\n",
       "                          max_features=None, max_leaf_nodes=None,\n",
       "                          min_impurity_decrease=0.0, min_impurity_split=None,\n",
       "                          min_samples_leaf=1, min_samples_split=2,\n",
       "                          min_weight_fraction_leaf=0.0, n_estimators=100,\n",
       "                          n_iter_no_change=None, presort='deprecated',\n",
       "                          random_state=None, subsample=1.0, tol=0.0001,\n",
       "                          validation_fraction=0.1, verbose=0, warm_start=False)"
      ]
     },
     "execution_count": 18,
     "metadata": {},
     "output_type": "execute_result"
    }
   ],
   "source": [
    "gbm_model"
   ]
  },
  {
   "cell_type": "code",
   "execution_count": 19,
   "metadata": {},
   "outputs": [],
   "source": [
    "gbm_params = {\"learning_rate\":[0.001,0.1,0.01],\n",
    "             \"max_depth\":[3,5,8],\n",
    "             \"n_estimators\":[100,200,500],\n",
    "             \"subsample\":[1,0.5,0.8],\n",
    "             \"loss\" : [\"ls\",\"lad\",\"quantile\"]}"
   ]
  },
  {
   "cell_type": "code",
   "execution_count": 22,
   "metadata": {},
   "outputs": [
    {
     "name": "stdout",
     "output_type": "stream",
     "text": [
      "Fitting 10 folds for each of 243 candidates, totalling 2430 fits\n"
     ]
    },
    {
     "name": "stderr",
     "output_type": "stream",
     "text": [
      "[Parallel(n_jobs=-1)]: Using backend LokyBackend with 8 concurrent workers.\n",
      "[Parallel(n_jobs=-1)]: Done  25 tasks      | elapsed:    2.2s\n",
      "[Parallel(n_jobs=-1)]: Done 146 tasks      | elapsed:    6.1s\n",
      "[Parallel(n_jobs=-1)]: Done 349 tasks      | elapsed:   19.2s\n",
      "[Parallel(n_jobs=-1)]: Done 632 tasks      | elapsed:   50.0s\n",
      "[Parallel(n_jobs=-1)]: Done 997 tasks      | elapsed:  1.2min\n",
      "[Parallel(n_jobs=-1)]: Done 1442 tasks      | elapsed:  2.0min\n",
      "[Parallel(n_jobs=-1)]: Done 1969 tasks      | elapsed:  2.6min\n",
      "[Parallel(n_jobs=-1)]: Done 2430 out of 2430 | elapsed:  3.4min finished\n"
     ]
    }
   ],
   "source": [
    "gbm_model = GradientBoostingRegressor().fit(X_train,y_train)\n",
    "gbm_cv_model = GridSearchCV(gbm_model,gbm_params,cv = 10 ,n_jobs = -1,verbose = 2).fit(X_train,y_train)"
   ]
  },
  {
   "cell_type": "code",
   "execution_count": 23,
   "metadata": {},
   "outputs": [
    {
     "data": {
      "text/plain": [
       "{'learning_rate': 0.1,\n",
       " 'loss': 'ls',\n",
       " 'max_depth': 5,\n",
       " 'n_estimators': 100,\n",
       " 'subsample': 0.5}"
      ]
     },
     "execution_count": 23,
     "metadata": {},
     "output_type": "execute_result"
    }
   ],
   "source": [
    "gbm_cv_model.best_params_"
   ]
  },
  {
   "cell_type": "code",
   "execution_count": 34,
   "metadata": {},
   "outputs": [],
   "source": [
    "gbm_tuned = GradientBoostingRegressor(learning_rate = 0.1,\n",
    "                                     loss = \"ls\",\n",
    "                                     max_depth = 5,\n",
    "                                     n_estimators = 100,\n",
    "                                     subsample = 0.5).fit(X_train,y_train)"
   ]
  },
  {
   "cell_type": "code",
   "execution_count": 35,
   "metadata": {},
   "outputs": [
    {
     "data": {
      "text/plain": [
       "343.45906310948766"
      ]
     },
     "execution_count": 35,
     "metadata": {},
     "output_type": "execute_result"
    }
   ],
   "source": [
    "y_pred = gbm_tuned.predict(X_test)\n",
    "np.sqrt(mean_squared_error(y_test,y_pred))"
   ]
  },
  {
   "cell_type": "code",
   "execution_count": 36,
   "metadata": {},
   "outputs": [],
   "source": [
    "#Degiskenlerin önem düzeyleri"
   ]
  },
  {
   "cell_type": "code",
   "execution_count": 38,
   "metadata": {},
   "outputs": [
    {
     "data": {
      "image/png": "[encoded data removed]",
      "text/plain": [
       "<Figure size 432x288 with 1 Axes>"
      ]
     },
     "metadata": {
      "needs_background": "light"
     },
     "output_type": "display_data"
    }
   ],
   "source": [
    "Importance = pd.DataFrame({\"Importance\":gbm_tuned.feature_importances_*100},\n",
    "                         index = X_train.columns)\n",
    "Importance.sort_values(by = \"Importance\",\n",
    "                      axis = 0,\n",
    "                      ascending = True).plot(kind = \"barh\",\n",
    "                                            color = \"r\",)\n",
    "plt.xlabel(\"Variable Importance\")\n",
    "plt.gca().legend_ = None"
   ]
  },
  {
   "cell_type": "code",
   "execution_count": null,
   "metadata": {},
   "outputs": [],
   "source": []
  }
 ],
 "metadata": {
  "kernelspec": {
   "display_name": "Python 3",
   "language": "python",
   "name": "python3"
  },
  "language_info": {
   "codemirror_mode": {
    "name": "ipython",
    "version": 3
   },
   "file_extension": ".py",
   "mimetype": "text/x-python",
   "name": "python",
   "nbconvert_exporter": "python",
   "pygments_lexer": "ipython3",
   "version": "3.7.6"
  }
 },
 "nbformat": 4,
 "nbformat_minor": 4
}
