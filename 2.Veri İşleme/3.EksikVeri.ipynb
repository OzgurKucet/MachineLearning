{
 "cells": [
  {
   "cell_type": "markdown",
   "metadata": {},
   "source": [
    "# Eksik Veri"
   ]
  },
  {
   "cell_type": "markdown",
   "metadata": {},
   "source": [
    "### Eksik veri Nedir\n",
    "İncelenen veri setindeki gözlemlerde eksiklik olması durumunu ifade eder.\n",
    "Direk silmek çalışmaların güvenliğini düşürür.\n",
    "\n",
    "1-)Veri setindeki eksiklik yapısal bir eksiklik olup olmadiğinin bilinmesi\n",
    "gerekir kredi kartı harcaması NA olan kullanıcının yapısal bir eksiklikten\n",
    "dolayı mesela hiç kredi kartı olmamasından bu değer oluşmamış olabilir.\n",
    "\n",
    "2-)NA her zaman eksiklik anlamına gelmez.\n",
    "\n",
    "3-)Bilgi kaybı! Eksik veriyi silmeden bu 3 durum göz önünde bulundurulup \n",
    "silinmeli "
   ]
  },
  {
   "cell_type": "markdown",
   "metadata": {},
   "source": [
    "### Tümüyle Raslantısal Kayıp\n",
    "Diğer değişkenlerden yada yapılsal bir problemden kaynaklanmayan\n",
    "tamamen rasgele oluşan gözlemlerdir\n",
    "\n",
    "### Raslantısal Kayıp\n",
    "Diğer değişkenlere bağlı oluşabilen eksiklik türü.\n",
    "\n",
    "### Raslantısal Olmayan Kayıp \n",
    "Göz ardı edilemeyecek olan ve yapısal problemler ile ortaya çıkan eksiklik\n",
    "türü"
   ]
  },
  {
   "cell_type": "markdown",
   "metadata": {},
   "source": [
    "##### Görsel Teknikler\n",
    "##### Bağımsız İki Örneklem T Testi\n",
    "##### Korelasyon Testi\n",
    "##### Little nin MCAR Testi"
   ]
  },
  {
   "cell_type": "markdown",
   "metadata": {},
   "source": [
    "## 1-)Silme Yöntemleri:\n",
    "- Gözlem yada değişken silme Yöntemi\n",
    "- Liste bazında silme yöntemi\n",
    "- Çiftler bazında silme yöntemi\n"
   ]
  },
  {
   "cell_type": "markdown",
   "metadata": {},
   "source": [
    "## 2-)Deger Atama Yöntemleri\n",
    "- Ortanca, ortalama ,medtan\n",
    "- En Benzer Birime Atama(Hot deck)\n",
    "- Dış kaynaklı atama"
   ]
  },
  {
   "cell_type": "markdown",
   "metadata": {},
   "source": [
    "## 3-)Tahmine Dayalı Yöntemler\n",
    "- MakineÖğrenmesi\n",
    "- EM\n",
    "- Çoklu Atama Yöntemi"
   ]
  },
  {
   "cell_type": "code",
   "execution_count": null,
   "metadata": {},
   "outputs": [],
   "source": []
  }
 ],
 "metadata": {
  "kernelspec": {
   "display_name": "Python 3",
   "language": "python",
   "name": "python3"
  },
  "language_info": {
   "codemirror_mode": {
    "name": "ipython",
    "version": 3
   },
   "file_extension": ".py",
   "mimetype": "text/x-python",
   "name": "python",
   "nbconvert_exporter": "python",
   "pygments_lexer": "ipython3",
   "version": "3.7.6"
  }
 },
 "nbformat": 4,
 "nbformat_minor": 4
}
